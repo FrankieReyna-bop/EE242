{
 "cells": [
  {
   "cell_type": "markdown",
   "metadata": {},
   "source": [
    "## EE 242 Lab 2a – Convolution - Convolving Signals\n",
    "\n",
    "**Alexander Vuu** \n",
    "\n",
    "This short lab only has one exercise to be completed as a team. The exercise should be in its own code cell followed by a markdown cell with report discussion. Your notebook should start with a markdown title and overview cell, which should be followed by an import cell that has the import statements for all assignments. For this assignment, you will need to import: numpy, the wavfile package from scipy.io, and matplotlib.pyplot.  "
   ]
  },
  {
   "cell_type": "code",
   "execution_count": 2,
   "metadata": {},
   "outputs": [],
   "source": [
    "# We'll refer to this as the \"import cell.\" Every module you import should be imported here.\n",
    "%matplotlib inline\n",
    "import numpy as np\n",
    "import matplotlib\n",
    "import scipy.signal as sig\n",
    "import matplotlib.pyplot as plt\n",
    "# import whatever other modules you use in this lab -- there are more that you need than we've included "
   ]
  },
  {
   "cell_type": "markdown",
   "metadata": {},
   "source": [
    "## Summary\n",
    "\n",
    "In labs 2A and 2B, you will work through a series of exercises to introduce you to working with audio signals and explore the impact of convolution and smoothing on the sound of the signals.  Lab 2A should be done in section."
   ]
  },
  {
   "cell_type": "markdown",
   "metadata": {},
   "source": [
    "## Lab 2a turn in checklist\n",
    "\n",
    "•\tLab 2a Jupyter notebook with code for the first assignment. Each assignment cell should contain markdown cells (same as lab overview cells) for the responses to lab report questions. Include your lab members’ names at the top of the notebook.\n",
    "\n",
    "**Please submit the report as PDF or html** "
   ]
  },
  {
   "cell_type": "markdown",
   "metadata": {
    "tags": []
   },
   "source": [
    "## Assignment 1 -- Convolving Simple Signals\n",
    "\n",
    "We will start by doing some simple convolutions similar to what you saw in class. There is a skeleton for Assignment 1 below, but you can create more cells as needed. This assignment will have three parts, A-C.\n",
    "\n",
    "**A.** Create the following three discrete-time signals, assuming a time range of [0,12].  \n",
    "x = a box of height 1 starting at time t=2 and ending at t=8  \n",
    "h1 = a pulse of length 4 & height 1 starting at time t=0  \n",
    "h2 = 1 at first sample, -1 at at second sample, and 0 otherwise  \n",
    "\n",
    "**B.**  Use numpy.convolve() function to find y1=$x*h1$ and y2=$x*h2$ (where $*$ indicates convolution, not multiplication) (See https://numpy.org/doc/stable/reference/generated/numpy.convolve.html). Notice the length of the output.\n",
    "\n",
    "**C.**  Create a time vectors nx, ny1 and ny2 for plotting x, y1 and y2. Use the stem plotting function to plot the signals on a 3x1 subplot, using a y-axis between -2 and 5 and a time axis from 0 to 20. Label and title the graphs. Verify that the signals for (y1) and (y2) match what you would expect."
   ]
  },
  {
   "cell_type": "code",
   "execution_count": 3,
   "metadata": {},
   "outputs": [
    {
     "data": {
      "image/png": "[encoded data removed]",
      "text/plain": [
       "<Figure size 1000x500 with 3 Axes>"
      ]
     },
     "metadata": {},
     "output_type": "display_data"
    }
   ],
   "source": [
    "# Assignment 1 - Convolving Simple Signals\n",
    "\n",
    "# Part A\n",
    "\n",
    "# Create three discrete-time signals, assuming a time range of [0,12]\n",
    "# x: input signal vector, a box of height 1 starting at time n=2 and ending at n=8\n",
    "# h1: a pulse of length 4 & height 1 starting at time 0\n",
    "# h2 = 1 at n=0, -1 at n=1, and 0 otherwise\n",
    "# TODO: Code that solves A\n",
    "\n",
    "\n",
    "\n",
    "def x_t(t):\n",
    "    y = np.zeros_like(t)\n",
    "    y[2:9:1] = 1\n",
    "    return y\n",
    "def h1_t(t):\n",
    "    y = np.zeros_like(t)\n",
    "    y[0:4:1] = 1\n",
    "    return y\n",
    "def h2_t(t): \n",
    "    y = np.zeros_like(t)\n",
    "    y[0] = 1\n",
    "    y[1] = -1\n",
    "    return y\n",
    "\n",
    "\n",
    "t = np.arange(0, 13, 1)   \n",
    "# Part B\n",
    "# Use the np.convolve() function to convolve the signals. Try plotting and observing the results\n",
    "# Find the responses y1=x*h1 and y2=x*h2\n",
    "# TODO: Code that solves B\n",
    "y1 = np.convolve(x_t(t), h1_t(t))\n",
    "y2 = np.convolve(x_t(t), h2_t(t))\n",
    "\n",
    "\n",
    "\n",
    "# Part C\n",
    "# Plot x, y1 and y2 in a 3x1 plot\n",
    "# TODO: Code that solves C\n",
    "nx = np.arange(len(x_t(t)))\n",
    "ny1 = np.arange(len(y1))\n",
    "ny2 = np.arange(len(y2))\n",
    "plt.figure(figsize=(10, 5))\n",
    "plt.subplot(3, 1, 1)\n",
    "plt.stem(nx, x_t(t), label='x(t)')\n",
    "plt.legend()\n",
    "plt.subplot(3, 1, 2)\n",
    "plt.stem(ny1, y1, label='x(t) * h_1(t)')\n",
    "plt.legend()\n",
    "plt.subplot(3, 1, 3)\n",
    "plt.stem(ny2, y2, label='x(t) * h_2(t)')\n",
    "plt.legend()\n",
    "plt.xlabel('t')\n",
    "plt.tight_layout()\n",
    "plt.show()\n",
    "\n",
    "\n"
   ]
  },
  {
   "cell_type": "markdown",
   "metadata": {},
   "source": [
    "###  Discussion\n",
    "\n",
    "The systems corresponding to impulse responses $h_1$[n] and $h_2$[n] capture different information about a signal. Comment on what aspects of the input signal correspond to the largest values of $y_1$[n] and $y_2$[n].\n",
    "\n",
    "For graph y1, we can see that it captures the accumilated intensity of x(t) where we can see multiple nonzero values from 2 to 11, while in y2 we can see transitions in x(t) from 1 to negative 1. "
   ]
  }
 ],
 "metadata": {
  "kernelspec": {
   "display_name": "base",
   "language": "python",
   "name": "python3"
  },
  "language_info": {
   "codemirror_mode": {
    "name": "ipython",
    "version": 3
   },
   "file_extension": ".py",
   "mimetype": "text/x-python",
   "name": "python",
   "nbconvert_exporter": "python",
   "pygments_lexer": "ipython3",
   "version": "3.11.7"
  }
 },
 "nbformat": 4,
 "nbformat_minor": 4
}
